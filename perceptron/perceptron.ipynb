{
 "cells": [
  {
   "cell_type": "markdown",
   "metadata": {},
   "source": [
    "## 感知机(perceptron)"
   ]
  },
  {
   "cell_type": "markdown",
   "metadata": {},
   "source": [
    "### 1. 引入相关包"
   ]
  },
  {
   "cell_type": "code",
   "execution_count": 1,
   "metadata": {},
   "outputs": [],
   "source": [
    "import numpy as np\n",
    "import matplotlib.pyplot as plt"
   ]
  },
  {
   "cell_type": "markdown",
   "metadata": {},
   "source": [
    "### 2. perceptron类\n",
    "\n",
    "$w = w + \\eta y_i x_i$\n",
    "\n",
    "$b = b + \\eta y_i$"
   ]
  },
  {
   "cell_type": "code",
   "execution_count": 2,
   "metadata": {},
   "outputs": [],
   "source": [
    "class Perceptron:\n",
    "    \"\"\"感知机\"\"\"\n",
    "    def __init__(self, data_x=None, y=None):\n",
    "        self.lr_rate = 1\n",
    "        self.dim = 0\n",
    "        # 数据\n",
    "        self.data_x = data_x\n",
    "        # 标签 {-1， 1}\n",
    "        self.y = y\n",
    "        self.w = None\n",
    "        self.b = 0\n",
    "        self.__initialize();\n",
    "    \n",
    "    def __initialize(self):\n",
    "        \"\"\"初始化\"\"\"\n",
    "        self.dim = self.data_x.shape[1]\n",
    "        self.w = np.random.randn(self.dim)\n",
    "        self.b = np.random.randn()\n",
    "#         self.w = np.zeros(self.dim, dtype=np.float64)\n",
    "        \n",
    "    def need_update(self):\n",
    "        \"\"\"是否需要更新\"\"\"\n",
    "        is_update = False\n",
    "        for x, label in zip(self.data_x, self.y):\n",
    "            # 存在误分类\n",
    "            if label * (np.dot(self.w, x) + self.b) <= 0:\n",
    "                self.w += self.lr_rate * label * x\n",
    "                self.b += self.lr_rate * label\n",
    "                is_update = True\n",
    "                \n",
    "        return is_update\n",
    "    \n",
    "    def fit(self):\n",
    "        \"\"\"模型训练\"\"\"\n",
    "        counter = 0\n",
    "        while counter <= 100000:\n",
    "            if not self.need_update():\n",
    "                break\n",
    "            counter += 1"
   ]
  },
  {
   "cell_type": "markdown",
   "metadata": {},
   "source": [
    "### 3.  数据和模型"
   ]
  },
  {
   "cell_type": "code",
   "execution_count": 3,
   "metadata": {},
   "outputs": [],
   "source": [
    "# 数据构造(感知机一定要是线性可分的数据)\n",
    "data_x = np.array([[np.random.randn(), np.random.randn()] for i in range(10)] + \n",
    "             [[np.random.randn() + 5, np.random.randn() + 3] for i in range(10)])\n",
    "y = np.array([1.0 for i in range(10)] + [-1.0 for i in range(10)])\n",
    "\n",
    "# 感知机\n",
    "model = Perceptron(data_x, y)\n",
    "model.fit()"
   ]
  },
  {
   "cell_type": "markdown",
   "metadata": {},
   "source": [
    "### 4.  可视化"
   ]
  },
  {
   "cell_type": "code",
   "execution_count": 4,
   "metadata": {},
   "outputs": [
    {
     "data": {
      "image/png": "[encoded data removed]",
      "text/plain": [
       "<Figure size 432x288 with 1 Axes>"
      ]
     },
     "metadata": {
      "needs_background": "light"
     },
     "output_type": "display_data"
    }
   ],
   "source": [
    "x1 = np.arange(-5, 10, 0.1)\n",
    "x2 = (- model.b - model.w[0] * x1) / model.w[1]\n",
    "plt.plot(x1, x2, color='g')\n",
    "plt.scatter(data_x[:10, 0], data_x[:10, 1], color='b', label='1')\n",
    "plt.scatter(data_x[10:, 0], data_x[10:, 1], color='r', label='-1')\n",
    "plt.legend()\n",
    "plt.show()"
   ]
  }
 ],
 "metadata": {
  "kernelspec": {
   "display_name": "Python 3",
   "language": "python",
   "name": "python3"
  },
  "language_info": {
   "codemirror_mode": {
    "name": "ipython",
    "version": 3
   },
   "file_extension": ".py",
   "mimetype": "text/x-python",
   "name": "python",
   "nbconvert_exporter": "python",
   "pygments_lexer": "ipython3",
   "version": "3.8.5"
  }
 },
 "nbformat": 4,
 "nbformat_minor": 4
}
