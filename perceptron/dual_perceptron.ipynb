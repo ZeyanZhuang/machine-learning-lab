{
 "cells": [
  {
   "cell_type": "markdown",
   "metadata": {},
   "source": [
    "## 对偶感知机(dual_perceptron)"
   ]
  },
  {
   "cell_type": "markdown",
   "metadata": {},
   "source": [
    "### 1. 引入相关的包"
   ]
  },
  {
   "cell_type": "code",
   "execution_count": 1,
   "metadata": {},
   "outputs": [],
   "source": [
    "import numpy as np\n",
    "import matplotlib.pyplot as plt"
   ]
  },
  {
   "cell_type": "markdown",
   "metadata": {},
   "source": [
    "### 2. 对偶感知机类\n",
    "$\\alpha_i = \\alpha_i + \\eta$\n",
    "\n",
    "$b = b + \\eta y_i$\n"
   ]
  },
  {
   "cell_type": "code",
   "execution_count": 2,
   "metadata": {},
   "outputs": [],
   "source": [
    "class DualPerceptron:\n",
    "    \"\"\"对偶感知机\"\"\"\n",
    "    def __init__(self, data_x=None, y=None):\n",
    "        self.data_x = data_x\n",
    "        self.y = y\n",
    "        self.alpha = np.zeros(data_x.shape[0], dtype=np.float64)\n",
    "        self.w = np.zeros(data_x.shape[1], dtype=np.float64)\n",
    "        self.b = 0.0\n",
    "        self.lr_rate = 0.5\n",
    "        # gram 矩阵，加速计算\n",
    "        self.Gram = np.matmul(data_x, data_x.T)\n",
    "        \n",
    "    def need_upgrade(self):\n",
    "        \"\"\"是否存在误分类的点\"\"\"\n",
    "        is_upgrade = False\n",
    "        for i, (x, label) in enumerate(zip(self.data_x, self.y)):\n",
    "            gram_row_i = self.Gram[i]\n",
    "            # 误分类点\n",
    "            if (np.dot(gram_row_i, (self.alpha * self.y)) + self.b)  * label <= 0:\n",
    "                self.alpha[i] += self.lr_rate\n",
    "                self.b += self.lr_rate * label\n",
    "                is_upgrade = True\n",
    "        \n",
    "        return is_upgrade\n",
    "\n",
    "    def fit(self):\n",
    "        \"\"\"模型训练\"\"\"\n",
    "        counter = 0\n",
    "        while counter <= 100000:\n",
    "            if not self.need_upgrade():\n",
    "                break\n",
    "            counter += 1\n",
    "            \n",
    "        # 构建 w 向量\n",
    "        self.get_w()\n",
    "    \n",
    "    def get_w(self):\n",
    "        \"\"\"从 alpha 中推出 w (dual)\"\"\"\n",
    "        self.w = np.dot((self.alpha * self.y), self.data_x)"
   ]
  },
  {
   "cell_type": "markdown",
   "metadata": {},
   "source": [
    "### 3. 数据和模型"
   ]
  },
  {
   "cell_type": "code",
   "execution_count": 3,
   "metadata": {},
   "outputs": [],
   "source": [
    "# 数据构造(感知机一定要是线性可分的数据)\n",
    "data_x = np.array([[np.random.randn(), np.random.randn()] for i in range(10)] + \n",
    "             [[np.random.randn() + 5, np.random.randn() + 3] for i in range(10)])\n",
    "y = np.array([1.0 for i in range(10)] + [-1.0 for i in range(10)])\n",
    "\n",
    "# 感知机\n",
    "model = DualPerceptron(data_x, y)\n",
    "model.fit()"
   ]
  },
  {
   "cell_type": "markdown",
   "metadata": {},
   "source": [
    "### 4. 数据可视化 "
   ]
  },
  {
   "cell_type": "code",
   "execution_count": 4,
   "metadata": {},
   "outputs": [
    {
     "data": {
      "image/png": "[encoded data removed]",
      "text/plain": [
       "<Figure size 432x288 with 1 Axes>"
      ]
     },
     "metadata": {
      "needs_background": "light"
     },
     "output_type": "display_data"
    }
   ],
   "source": [
    "# 数据可视化\n",
    "x1 = np.arange(-5, 10, 0.1)\n",
    "x2 = (- model.b - model.w[0] * x1) / model.w[1]\n",
    "plt.plot(x1, x2, color='g')\n",
    "plt.scatter(data_x[:10, 0], data_x[:10, 1], color='b', label='1')\n",
    "plt.scatter(data_x[10:, 0], data_x[10:, 1], color='r', label='-1')\n",
    "plt.legend()\n",
    "plt.show()"
   ]
  }
 ],
 "metadata": {
  "kernelspec": {
   "display_name": "Python 3",
   "language": "python",
   "name": "python3"
  },
  "language_info": {
   "codemirror_mode": {
    "name": "ipython",
    "version": 3
   },
   "file_extension": ".py",
   "mimetype": "text/x-python",
   "name": "python",
   "nbconvert_exporter": "python",
   "pygments_lexer": "ipython3",
   "version": "3.8.5"
  }
 },
 "nbformat": 4,
 "nbformat_minor": 4
}
