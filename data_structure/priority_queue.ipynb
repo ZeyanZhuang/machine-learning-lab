{
 "cells": [
  {
   "cell_type": "markdown",
   "metadata": {},
   "source": [
    "## 优先队列"
   ]
  },
  {
   "cell_type": "code",
   "execution_count": 1,
   "metadata": {},
   "outputs": [],
   "source": [
    "import math"
   ]
  },
  {
   "cell_type": "markdown",
   "metadata": {},
   "source": [
    "### 1. 优先队列类"
   ]
  },
  {
   "cell_type": "code",
   "execution_count": 2,
   "metadata": {},
   "outputs": [],
   "source": [
    "class PriorityQueue:\n",
    "    def __init__(self, data=None):\n",
    "        # data: list\n",
    "        self.data = data\n",
    "        self.size = 0\n",
    "        # 存储数据的列表\n",
    "        self.array = [None]\n",
    "        self.create_heap()\n",
    "    \n",
    "    def f(self, x):\n",
    "        \"\"\"对比值\"\"\"\n",
    "        return x.value\n",
    "    \n",
    "    def create_heap(self):\n",
    "        \"\"\"创建队列\"\"\"\n",
    "        if self.data is None or len(self.data) == 0:\n",
    "            return\n",
    "        for item in self.data:\n",
    "            self.push(item)\n",
    "            \n",
    "    def push(self, item):\n",
    "        \"\"\"添加一个元素\"\"\"\n",
    "        self.size += 1\n",
    "        # 判断是不是要增加列表长度\n",
    "        if len(self.array) - 1 < self.size:\n",
    "            self.array.append(item)\n",
    "        else:\n",
    "            self.array[self.size] = item\n",
    "        cur = self.size\n",
    "        cur_father = cur // 2\n",
    "        while cur_father >= 1:\n",
    "            if self.f(self.array[cur]) < self.f(self.array[cur_father]):\n",
    "                self.array[cur], self.array[cur_father] = self.array[cur_father], self.array[cur]\n",
    "            cur = cur_father\n",
    "            cur_father = cur // 2\n",
    "    \n",
    "    def pop(self):\n",
    "        \"\"\"取出一个元素\"\"\"\n",
    "        if self.size < 1:\n",
    "            return None\n",
    "        result = self.array[1]\n",
    "        self.array[1] = self.array[self.size]\n",
    "        self.size -= 1\n",
    "        cur = 1\n",
    "        while cur < self.size:\n",
    "            lson = cur * 2\n",
    "            rson = lson + 1\n",
    "            if lson > self.size:\n",
    "                break\n",
    "            min_son = cur\n",
    "            if rson > self.size:\n",
    "                if self.f(self.array[lson]) >= self.f(self.array[cur]):\n",
    "                    break\n",
    "                min_son = lson\n",
    "            else:\n",
    "                if self.f(self.array[lson]) < self.f(self.array[rson]):\n",
    "                    min_son = lson\n",
    "                else:\n",
    "                    min_son = rson\n",
    "                if self.f(self.array[min_son]) >= self.f(self.array[cur]):\n",
    "                    break\n",
    "            self.array[cur], self.array[min_son] = self.array[min_son], self.array[cur]\n",
    "            cur = min_son\n",
    "        return result\n",
    "    \n",
    "    def top(self):\n",
    "        \"\"\"队顶元素\"\"\"\n",
    "        if self.size < 1:\n",
    "            return None\n",
    "        return self.array[1]"
   ]
  }
 ],
 "metadata": {
  "kernelspec": {
   "display_name": "Python 3",
   "language": "python",
   "name": "python3"
  },
  "language_info": {
   "codemirror_mode": {
    "name": "ipython",
    "version": 3
   },
   "file_extension": ".py",
   "mimetype": "text/x-python",
   "name": "python",
   "nbconvert_exporter": "python",
   "pygments_lexer": "ipython3",
   "version": "3.8.5"
  }
 },
 "nbformat": 4,
 "nbformat_minor": 4
}
