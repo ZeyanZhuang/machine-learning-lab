{
 "cells": [
  {
   "cell_type": "markdown",
   "metadata": {},
   "source": [
    "## ID3决策树"
   ]
  },
  {
   "cell_type": "markdown",
   "metadata": {},
   "source": [
    "### 1. 导入相应的包"
   ]
  },
  {
   "cell_type": "code",
   "execution_count": 1,
   "metadata": {},
   "outputs": [],
   "source": [
    "import pandas as pd\n",
    "import numpy as np\n",
    "import copy\n",
    "from collections import deque"
   ]
  },
  {
   "cell_type": "markdown",
   "metadata": {},
   "source": [
    "### 2. 相关的类"
   ]
  },
  {
   "cell_type": "code",
   "execution_count": 2,
   "metadata": {},
   "outputs": [],
   "source": [
    "# 决策树的节点类，包含节点信息\n",
    "class Node:\n",
    "    def __init__(self):\n",
    "        \n",
    "        # 进行分割的特征名称\n",
    "        self.feature_name = \"\"\n",
    "        # 信息增益\n",
    "        self.information_gain = 0\n",
    "        # 儿子节点\n",
    "        self.son_dict = dict()\n",
    "        # 如果是叶节点，分类\n",
    "        self.species = None\n",
    "        # 样本个数\n",
    "        self.samples = 0\n",
    "    \n",
    "    def print(self):\n",
    "        \"\"\"打印节点信息\"\"\"\n",
    "        print(\"-------------------------\")\n",
    "        print(\"feature name: \" + self.feature_name)\n",
    "        print(\"information gain: %.2f\" % self.information_gain)\n",
    "        print(\"samples: \" + str(self.samples))\n",
    "        if self.species:\n",
    "            print(\"leaf node, the species is: \" + str(self.species))\n",
    "        print(\"-------------------------\")\n",
    "\n",
    "\n",
    "class DecisionTreeID3:\n",
    "    \"\"\"决策树类，里面的数据全是 pandas 的 DataFrame\"\"\"\n",
    "    \n",
    "    def __init__(self, data_x=None, label=None, name=None):\n",
    "        self.epsilon = 0.1\n",
    "        self.tree_root = Node()\n",
    "        self.train_data_x = data\n",
    "        self.species_name = name\n",
    "        self.label = label\n",
    "        self.tree_dict = {}\n",
    "\n",
    "    def create_tree(self, node, data_x, y):\n",
    "        \"\"\"递归建树\"\"\"\n",
    "        \n",
    "        # 每个标签对应的信息增益 (information gain)\n",
    "        information_gain_list = self.cacu_information_gain(data_x, y)\n",
    "        # 最大的信息增益 \n",
    "        max_ig = information_gain_list.max()\n",
    "        # 对应的特征\n",
    "        argmax_feature = information_gain_list.idxmax()\n",
    "        \n",
    "        node.information_gain = max_ig\n",
    "        node.feature_name = argmax_feature\n",
    "        node.samples = data_x.shape[0]\n",
    "        \n",
    "        # 叶节点\n",
    "        if max_ig < self.epsilon:\n",
    "            classify_counts = y.value_counts()\n",
    "            node.species = classify_counts.idxmax()\n",
    "            return\n",
    "\n",
    "        # 最大的特征对应不同取值\n",
    "        items = data_x[argmax_feature].unique()\n",
    "        for item in items:\n",
    "            son = Node()\n",
    "            # 递归\n",
    "            self.create_tree(son,\n",
    "                             data_x[data_x[argmax_feature] == item].drop(columns=argmax_feature),\n",
    "                             y[data_x[argmax_feature] == item])\n",
    "            node.son_dict[item] = son\n",
    "\n",
    "    def fit(self):\n",
    "        \"\"\"根据建立模型， 也就是递归建树\"\"\"\n",
    "        if self.tree_root is None:\n",
    "            self.tree_root = Node()\n",
    "        self.create_tree(self.tree_root, self.train_data_x, self.label)\n",
    "    \n",
    "\n",
    "    def cacu_information_gain(self, data_x, y):\n",
    "        \"\"\"计算不同特征信息增益\"\"\"\n",
    "        feature_names = data_x.columns\n",
    "        cond_entropy = []\n",
    "        entropy_total = self.cacu_entropy(y)\n",
    "        D = data_x.shape[0]\n",
    "        \n",
    "        # 遍历特征\n",
    "        for name in feature_names:\n",
    "            entropy = 0\n",
    "            ser = data[name]\n",
    "            counts = ser.value_counts()\n",
    "            \n",
    "            # 特征下不同的取值\n",
    "            for item in counts.index:\n",
    "                d = counts[item]\n",
    "                entropy += d / D * self.cacu_entropy(y[ser == item])\n",
    "            cond_entropy.append(entropy)\n",
    "        return pd.Series(entropy_total - cond_entropy, index=feature_names)\n",
    "    \n",
    "    def cacu_entropy(self, data):\n",
    "        \"\"\"计算熵(entropy)\"\"\"\n",
    "        entropy = 0.0\n",
    "        C = data.count()\n",
    "        counts = data.value_counts()\n",
    "        for c in counts:\n",
    "            if c != 0:\n",
    "                entropy += - (c / C) * np.log2(c / C)\n",
    "        return entropy\n",
    "\n",
    "    def classify(self, X):\n",
    "        \"\"\"对数据分类\"\"\"\n",
    "        node = self.tree_root\n",
    "        while not (node.specie is None):\n",
    "            feature = node.feature_name\n",
    "            value = X[feature]\n",
    "            node = node.son_dict[value]\n",
    "        return node.species\n",
    "\n",
    "    \n",
    "    def __get_tree_dict(self, node):\n",
    "        \"\"\"私有方法，用字典的方式返回决策树: {特征：{取值：子树}}\"\"\"\n",
    "        best_feature = node.feature_name\n",
    "        if not (node.species is None):\n",
    "            return node.species\n",
    "        tree_dict = {best_feature: {}}\n",
    "        for key, value in node.son_dict.items():\n",
    "            tree_dict[best_feature][key] = self.__get_tree_dict(value)\n",
    "        return tree_dict\n",
    "    \n",
    "    def get_tree_dict(self):\n",
    "        \"\"\"返回字典\"\"\"\n",
    "        if not bool(self.tree_dict) or self.tree_dict is None:\n",
    "            self.tree_dict = self.__get_tree_dict(self.tree_root)            \n",
    "        return  copy.deepcopy(self.tree_dict)"
   ]
  },
  {
   "cell_type": "markdown",
   "metadata": {},
   "source": [
    "### 3.测试 "
   ]
  },
  {
   "cell_type": "code",
   "execution_count": 3,
   "metadata": {},
   "outputs": [
    {
     "data": {
      "text/plain": [
       "{'outlook': {'Sunny': {'humidity': {'High': 'No', 'Normal': 'Yes'}},\n",
       "  'Overcast': 'Yes',\n",
       "  'Rain': {'wind': {'Weak': 'Yes', 'Strong': 'No'}}}}"
      ]
     },
     "execution_count": 3,
     "metadata": {},
     "output_type": "execute_result"
    }
   ],
   "source": [
    "# 预处理\n",
    "data = pd.read_csv('play_tennis.csv')\n",
    "data.drop(columns='day', inplace=True)\n",
    "y = data['play']\n",
    "data.drop(columns='play', inplace=True)\n",
    "\n",
    "# 模型\n",
    "model = DecisionTreeID3(data_x=data, label=y, name=\"play\")\n",
    "model.fit()\n",
    "\n",
    "# 打印\n",
    "tree_dict = model.get_tree_dict()\n",
    "tree_dict"
   ]
  },
  {
   "cell_type": "code",
   "execution_count": null,
   "metadata": {},
   "outputs": [],
   "source": []
  }
 ],
 "metadata": {
  "kernelspec": {
   "display_name": "Python 3",
   "language": "python",
   "name": "python3"
  },
  "language_info": {
   "codemirror_mode": {
    "name": "ipython",
    "version": 3
   },
   "file_extension": ".py",
   "mimetype": "text/x-python",
   "name": "python",
   "nbconvert_exporter": "python",
   "pygments_lexer": "ipython3",
   "version": "3.8.5"
  }
 },
 "nbformat": 4,
 "nbformat_minor": 4
}
