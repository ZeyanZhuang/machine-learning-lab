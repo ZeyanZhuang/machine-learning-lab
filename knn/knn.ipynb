{
 "cells": [
  {
   "cell_type": "markdown",
   "metadata": {},
   "source": [
    "## KNN算法（朴素）\n",
    "\n",
    "优先队列保存前 k 个数据点\n",
    "\n",
    "大根堆\n",
    "\n",
    "### 1. 导入相关包"
   ]
  },
  {
   "cell_type": "code",
   "execution_count": 1,
   "metadata": {},
   "outputs": [],
   "source": [
    "from data_structure import *\n",
    "import numpy as np\n",
    "import matplotlib.pyplot as plt"
   ]
  },
  {
   "cell_type": "markdown",
   "metadata": {},
   "source": [
    "### 2. 优先队列的节点"
   ]
  },
  {
   "cell_type": "code",
   "execution_count": 2,
   "metadata": {},
   "outputs": [],
   "source": [
    "class Node:\n",
    "    def __init__(self, x=None, val=None):\n",
    "        self.x = x\n",
    "        self.val = val\n",
    "    def value(self):\n",
    "        return self.val"
   ]
  },
  {
   "cell_type": "markdown",
   "metadata": {},
   "source": [
    "### 3. 构造数据集\n",
    "\n",
    "便于显示，就用二维的数据"
   ]
  },
  {
   "cell_type": "code",
   "execution_count": 3,
   "metadata": {},
   "outputs": [],
   "source": [
    "nums = 65\n",
    "k = 12\n",
    "T_1 = np.random.randn(nums, 2) * 12 + 12\n",
    "T_2 = np.random.randn(nums, 2) * 12 + -12\n",
    "T = np.vstack((T_1, T_2))\n",
    "y_1 = np.ones([nums, 1]) * 0\n",
    "y_2 = np.ones([nums, 1]) * 1\n",
    "y = np.vstack((y_1, y_2))\n",
    "\n",
    "# 要分类的点\n",
    "X = np.array([5, 5])"
   ]
  },
  {
   "cell_type": "markdown",
   "metadata": {},
   "source": [
    "### 4. KNN 算法"
   ]
  },
  {
   "cell_type": "code",
   "execution_count": 4,
   "metadata": {},
   "outputs": [],
   "source": [
    "# 大根堆（最远的去掉）\n",
    "que = PriorityQueue(is_ascend=False)\n",
    "for item in T:\n",
    "    node = Node(item, np.sum(np.square(item - X)))\n",
    "    if que.size < k:\n",
    "        que.push(node)\n",
    "    elif que.top().value() > node.value():\n",
    "        que.pop()\n",
    "        que.push(node)\n",
    "\n",
    "# 邻居\n",
    "nbs_2 = []\n",
    "R_2 = np.sqrt(que.top().value())\n",
    "while que.size:\n",
    "    nbs_2.append(que.pop().x)\n",
    "nbs_2 = np.array(nbs_2)"
   ]
  },
  {
   "cell_type": "markdown",
   "metadata": {},
   "source": [
    "### 5. 可视化"
   ]
  },
  {
   "cell_type": "code",
   "execution_count": 5,
   "metadata": {},
   "outputs": [
    {
     "data": {
      "image/png": "[encoded data removed]",
      "text/plain": [
       "<Figure size 432x288 with 1 Axes>"
      ]
     },
     "metadata": {
      "needs_background": "light"
     },
     "output_type": "display_data"
    }
   ],
   "source": [
    "T_p = []\n",
    "T_n = []\n",
    "for x, label in zip(T, y):\n",
    "    if label == 1:\n",
    "        T_p.append(x)\n",
    "    else:\n",
    "        T_n.append(x)\n",
    "T_p = np.array(T_p)\n",
    "T_n = np.array(T_n)\n",
    "\n",
    "plt.axes().set_aspect('equal', adjustable='datalim')\n",
    "# 正负类（也可以多类）\n",
    "plt.scatter(T_p[:, 0], T_p[:, 1], c='r', marker='s', alpha=0.6, s=30)\n",
    "plt.scatter(T_n[:, 0], T_n[:, 1], c='b', marker='o', alpha=0.6, s=30)\n",
    "plt.scatter(nbs_2[:, 0], nbs_2[:, 1], c='k', marker='x', s=50)\n",
    "plt.scatter(X[0], X[1], c='g', marker='^', s=70)\n",
    "# KNs的范围\n",
    "t = np.arange(0, 2 * np.pi, 0.1)\n",
    "circle_x = np.cos(t) * R_2 + X[0]\n",
    "circle_y = np.sin(t) * R_2 + X[1]\n",
    "plt.plot(circle_x, circle_y, 'k-.', linewidth=1)\n",
    "plt.show()"
   ]
  },
  {
   "cell_type": "code",
   "execution_count": null,
   "metadata": {},
   "outputs": [],
   "source": []
  }
 ],
 "metadata": {
  "kernelspec": {
   "display_name": "Python 3",
   "language": "python",
   "name": "python3"
  },
  "language_info": {
   "codemirror_mode": {
    "name": "ipython",
    "version": 3
   },
   "file_extension": ".py",
   "mimetype": "text/x-python",
   "name": "python",
   "nbconvert_exporter": "python",
   "pygments_lexer": "ipython3",
   "version": "3.8.5"
  }
 },
 "nbformat": 4,
 "nbformat_minor": 4
}
