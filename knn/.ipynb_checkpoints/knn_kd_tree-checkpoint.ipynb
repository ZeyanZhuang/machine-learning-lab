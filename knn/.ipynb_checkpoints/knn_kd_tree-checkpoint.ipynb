{
 "cells": [
  {
   "cell_type": "markdown",
   "metadata": {},
   "source": [
    "## KNN算法 （KD-tree 优化）"
   ]
  },
  {
   "cell_type": "markdown",
   "metadata": {},
   "source": [
    "### 1. 导入相关的包 (data_structure 里包含了kd-tree 和 priority_queue)"
   ]
  },
  {
   "cell_type": "code",
   "execution_count": 1,
   "metadata": {},
   "outputs": [],
   "source": [
    "from data_structure import *\n",
    "import numpy as np\n",
    "import matplotlib.pyplot as plt"
   ]
  },
  {
   "cell_type": "markdown",
   "metadata": {},
   "source": [
    "### 2. 参数设置和数据集准备"
   ]
  },
  {
   "cell_type": "code",
   "execution_count": 2,
   "metadata": {},
   "outputs": [],
   "source": [
    "nums = 65\n",
    "k = 12\n",
    "T_1 = np.random.randn(nums, 2) * 12 + 12\n",
    "T_2 = np.random.randn(nums, 2) * 12 + -12\n",
    "T = np.vstack((T_1, T_2))\n",
    "y_1 = np.ones([nums, 1]) * 0\n",
    "y_2 = np.ones([nums, 1]) * 1\n",
    "y = np.vstack((y_1, y_2))\n",
    "\n",
    "# 要分类的点\n",
    "X = np.array([5, 5])"
   ]
  },
  {
   "cell_type": "markdown",
   "metadata": {},
   "source": [
    "### 3. 模型（KD树）"
   ]
  },
  {
   "cell_type": "code",
   "execution_count": 3,
   "metadata": {},
   "outputs": [],
   "source": [
    "model = KDTree(T, y)\n",
    "# 得到 k 个邻居\n",
    "k_neighbors_kdtree_ls = model.find_kth_neighbour(k, X)"
   ]
  },
  {
   "cell_type": "markdown",
   "metadata": {},
   "source": [
    "### 4. 可视化"
   ]
  },
  {
   "cell_type": "code",
   "execution_count": 4,
   "metadata": {},
   "outputs": [
    {
     "data": {
      "image/png": "[encoded data removed]",
      "text/plain": [
       "<Figure size 432x288 with 1 Axes>"
      ]
     },
     "metadata": {
      "needs_background": "light"
     },
     "output_type": "display_data"
    }
   ],
   "source": [
    "T_p = []\n",
    "T_n = []\n",
    "nbs = []\n",
    "for item in k_neighbors_kdtree_ls:\n",
    "    nbs.append(item.x)\n",
    "nbs = np.array(nbs)\n",
    "\n",
    "for x, label in zip(T, y):\n",
    "    if label == 1:\n",
    "        T_p.append(x)\n",
    "    else:\n",
    "        T_n.append(x)\n",
    "T_p = np.array(T_p)\n",
    "T_n = np.array(T_n)\n",
    "\n",
    "plt.axes().set_aspect('equal', adjustable='datalim')\n",
    "plt.scatter(T_p[:, 0], T_p[:, 1], c='r', marker='s', alpha=0.6, s=30)\n",
    "plt.scatter(T_n[:, 0], T_n[:, 1], c='b', marker='o', alpha=0.6, s=30)\n",
    "plt.scatter(nbs[:, 0], nbs[:, 1], c='k', marker='x', s=50)\n",
    "plt.scatter(X[0], X[1], c='g', marker='^', s=70)\n",
    "\n",
    "\n",
    "R = np.sqrt(k_neighbors_kdtree_ls[0].value())\n",
    "t = np.arange(0, 2 * np.pi, 0.1)\n",
    "circle_x = np.cos(t) * R + X[0]\n",
    "circle_y = np.sin(t) * R + X[1]\n",
    "\n",
    "plt.plot(circle_x, circle_y, 'k-.', linewidth=1)\n",
    "plt.show()"
   ]
  }
 ],
 "metadata": {
  "kernelspec": {
   "display_name": "Python 3",
   "language": "python",
   "name": "python3"
  },
  "language_info": {
   "codemirror_mode": {
    "name": "ipython",
    "version": 3
   },
   "file_extension": ".py",
   "mimetype": "text/x-python",
   "name": "python",
   "nbconvert_exporter": "python",
   "pygments_lexer": "ipython3",
   "version": "3.8.5"
  }
 },
 "nbformat": 4,
 "nbformat_minor": 4
}
